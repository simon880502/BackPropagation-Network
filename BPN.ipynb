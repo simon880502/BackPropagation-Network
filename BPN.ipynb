{
  "nbformat": 4,
  "nbformat_minor": 0,
  "metadata": {
    "colab": {
      "name": "BPN.ipynb",
      "provenance": []
    },
    "kernelspec": {
      "name": "python3",
      "display_name": "Python 3"
    }
  },
  "cells": [
    {
      "cell_type": "code",
      "metadata": {
        "id": "VfCvSQDAWyfy",
        "colab_type": "code",
        "colab": {}
      },
      "source": [
        "import numpy as np"
      ],
      "execution_count": 0,
      "outputs": []
    },
    {
      "cell_type": "markdown",
      "metadata": {
        "id": "eUzEtTR1aDm2",
        "colab_type": "text"
      },
      "source": [
        "## Forward propagation"
      ]
    },
    {
      "cell_type": "code",
      "metadata": {
        "id": "Q-zaNh48czJI",
        "colab_type": "code",
        "colab": {}
      },
      "source": [
        "def sigmoid(X):\n",
        "  return 1/(1+np.exp(X))"
      ],
      "execution_count": 0,
      "outputs": []
    },
    {
      "cell_type": "code",
      "metadata": {
        "id": "yyfY0dhRW--X",
        "colab_type": "code",
        "colab": {}
      },
      "source": [
        "# Initial\n",
        "W1=np.matrix(np.random.rand(3,4))\n",
        "W2=np.matrix(np.random.rand(2,3))\n",
        "Input=np.matrix(np.random.rand(4,1))\n",
        "y=np.array(np.random.randint(0,2,(2,1)))"
      ],
      "execution_count": 0,
      "outputs": []
    },
    {
      "cell_type": "code",
      "metadata": {
        "id": "RbCbpSw7gIvq",
        "colab_type": "code",
        "outputId": "8f4f15eb-c810-4825-a661-bac5e041b6c9",
        "colab": {
          "base_uri": "https://localhost:8080/",
          "height": 52
        }
      },
      "source": [
        "y"
      ],
      "execution_count": 0,
      "outputs": [
        {
          "output_type": "execute_result",
          "data": {
            "text/plain": [
              "array([[0],\n",
              "       [1]])"
            ]
          },
          "metadata": {
            "tags": []
          },
          "execution_count": 84
        }
      ]
    },
    {
      "cell_type": "code",
      "metadata": {
        "id": "g2eSh_m-gIpb",
        "colab_type": "code",
        "colab": {}
      },
      "source": [
        ""
      ],
      "execution_count": 0,
      "outputs": []
    },
    {
      "cell_type": "code",
      "metadata": {
        "id": "qZGmw7ZAXH6d",
        "colab_type": "code",
        "colab": {}
      },
      "source": [
        "A1=W1.dot(Input)\n",
        "A1=sigmoid(A1)\n",
        "A2=W2.dot(A1)\n",
        "A2=sigmoid(A2)"
      ],
      "execution_count": 0,
      "outputs": []
    },
    {
      "cell_type": "code",
      "metadata": {
        "id": "BbIKekNaXVYr",
        "colab_type": "code",
        "outputId": "b8a19f54-df64-48b8-d133-1a1b89f5ad59",
        "colab": {
          "base_uri": "https://localhost:8080/",
          "height": 52
        }
      },
      "source": [
        "A2\n",
        "\n"
      ],
      "execution_count": 0,
      "outputs": [
        {
          "output_type": "execute_result",
          "data": {
            "text/plain": [
              "matrix([[0.40044041],\n",
              "        [0.34667495]])"
            ]
          },
          "metadata": {
            "tags": []
          },
          "execution_count": 86
        }
      ]
    },
    {
      "cell_type": "markdown",
      "metadata": {
        "id": "mkP9GRI5dbQm",
        "colab_type": "text"
      },
      "source": [
        "## Back"
      ]
    },
    {
      "cell_type": "code",
      "metadata": {
        "id": "YIVd61AmYjdY",
        "colab_type": "code",
        "colab": {}
      },
      "source": [
        "sigma_o1 = (y[0]-A2[0])*A2[0]*(1-A2[0])\n",
        "sigma_o2 = (y[1]-A2[1])*A2[1]*(1-A2[1])"
      ],
      "execution_count": 0,
      "outputs": []
    },
    {
      "cell_type": "code",
      "metadata": {
        "id": "vCVOueNjiWYr",
        "colab_type": "code",
        "outputId": "6a129be1-4736-4049-c3cb-cf964b99fa12",
        "colab": {
          "base_uri": "https://localhost:8080/",
          "height": 35
        }
      },
      "source": [
        "print(sigma_o1,sigma_o2)"
      ],
      "execution_count": 0,
      "outputs": [
        {
          "output_type": "stream",
          "text": [
            "[[-0.09614089]] [[0.14797252]]\n"
          ],
          "name": "stdout"
        }
      ]
    },
    {
      "cell_type": "code",
      "metadata": {
        "id": "1C_1r7fTjIwp",
        "colab_type": "code",
        "colab": {}
      },
      "source": [
        ""
      ],
      "execution_count": 0,
      "outputs": []
    }
  ]
}